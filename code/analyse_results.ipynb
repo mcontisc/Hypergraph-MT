{
 "cells": [
  {
   "cell_type": "markdown",
   "id": "55389116",
   "metadata": {},
   "source": [
    "# Notebook to show how to analyse the results of the workplace dataset"
   ]
  },
  {
   "cell_type": "code",
   "execution_count": 1,
   "id": "f2f4e0c0",
   "metadata": {},
   "outputs": [],
   "source": [
    "import pandas as pd\n",
    "import numpy as np\n",
    "import sklearn.metrics as sm\n",
    "\n",
    "import tools as tl"
   ]
  },
  {
   "cell_type": "code",
   "execution_count": 2,
   "id": "f4452e1b",
   "metadata": {},
   "outputs": [],
   "source": [
    "''' Parameters '''\n",
    "data = 'workplace'\n",
    "in_folder = '../data/input/'\n",
    "cU = False"
   ]
  },
  {
   "cell_type": "code",
   "execution_count": 3,
   "id": "2a654016",
   "metadata": {
    "scrolled": true
   },
   "outputs": [
    {
     "name": "stdout",
     "output_type": "stream",
     "text": [
      "Number of nodes N = 92\n",
      "Number of hyperedges E = 788\n",
      "Hyperedges degree, counts, and proportions: [2 3 4] [742  44   2] [0.942 0.056 0.003]\n",
      "Metadata classes and counts: ['DISQ' 'DMCT' 'DSE' 'SFLE' 'SRH'] [15 26 34  4 13]\n"
     ]
    }
   ],
   "source": [
    "''' Import data '''\n",
    "filename = in_folder + data + '.npz'\n",
    "df_meta = pd.read_csv(in_folder+data+'_meta.csv')\n",
    "Data = np.load(filename, allow_pickle=True)\n",
    "A = Data['A']\n",
    "B = Data['B']\n",
    "hye = Data['hyperedges']\n",
    "hyL = [len(e) for eid, e in enumerate(hye)]\n",
    "\n",
    "N, E = B.shape\n",
    "Ds, countDs = np.unique(hyL, return_counts=True)\n",
    "groups, countG = np.unique(df_meta['class'], return_counts=True)\n",
    "\n",
    "print(f'Number of nodes N = {N}')\n",
    "print(f'Number of hyperedges E = {E}')\n",
    "print('Hyperedges degree, counts, and proportions:', Ds, countDs, np.round(countDs / sum(countDs), 3))\n",
    "print('Metadata classes and counts:', groups, countG)"
   ]
  },
  {
   "cell_type": "markdown",
   "id": "f6094509",
   "metadata": {},
   "source": [
    "### Communities\n",
    "Results obtained by running ```main.py```"
   ]
  },
  {
   "cell_type": "code",
   "execution_count": 4,
   "id": "d82f7390",
   "metadata": {},
   "outputs": [],
   "source": [
    "''' Import inferred parameters '''\n",
    "theta_HyMT = np.load(f'../data/output/theta_{data}_cU{cU}_HyMT.npz')\n",
    "theta_GrMT = np.load(f'../data/output/theta_{data}_cU{cU}_GrMT.npz')\n",
    "theta_PaMT = np.load(f'../data/output/theta_{data}_cU{cU}_PaMT.npz')"
   ]
  },
  {
   "cell_type": "code",
   "execution_count": 5,
   "id": "314c380d",
   "metadata": {},
   "outputs": [],
   "source": [
    "''' Save membership matrices u'''\n",
    "u = {'HyMT': tl.normalize_nonzero_membership(theta_HyMT['u']),\n",
    "     'GrMT': tl.normalize_nonzero_membership(theta_GrMT['u']),\n",
    "     'PaMT': tl.normalize_nonzero_membership(theta_PaMT['u'])}"
   ]
  },
  {
   "cell_type": "code",
   "execution_count": 8,
   "id": "25754e88",
   "metadata": {},
   "outputs": [],
   "source": [
    "''' Metadata partition '''\n",
    "groups = df_meta['classID'].values\n",
    "u_gt = np.zeros_like(u['HyMT'])\n",
    "for i in range(N):\n",
    "    u_gt[i][groups[i]] = 1"
   ]
  },
  {
   "cell_type": "code",
   "execution_count": 9,
   "id": "91f1c03a",
   "metadata": {
    "scrolled": true
   },
   "outputs": [],
   "source": [
    "''' Label permutation '''\n",
    "for mod in ['HyMT', 'GrMT', 'PaMT']:\n",
    "    P = tl.CalculatePermutation(u[mod], u_gt)\n",
    "    u[mod] = np.dot(u[mod], P)"
   ]
  },
  {
   "cell_type": "code",
   "execution_count": 22,
   "id": "8a1d1918",
   "metadata": {
    "scrolled": false
   },
   "outputs": [
    {
     "name": "stdout",
     "output_type": "stream",
     "text": [
      "F1-score\n",
      "Hypergraph-MT 0.829\n",
      "Graph-MT 0.82\n",
      "Pairs-MT 0.83\n"
     ]
    }
   ],
   "source": [
    "''' Compute the F1-score between inferred communities and metadata partition '''\n",
    "print('F1-score')\n",
    "labels = {'HyMT': 'Hypergraph-MT', 'GrMT': 'Graph-MT', 'PaMT': 'Pairs-MT'}\n",
    "for mod in ['HyMT', 'GrMT', 'PaMT']:\n",
    "    print(labels[mod], \n",
    "          np.round(sm.f1_score(np.argmax(u_gt, axis=1), np.argmax(u[mod], axis=1), average='weighted'), 3))"
   ]
  },
  {
   "cell_type": "markdown",
   "id": "61a74469",
   "metadata": {},
   "source": [
    "### Hyperedge prediction\n",
    "Results obtained by running ```main_cv.py```"
   ]
  },
  {
   "cell_type": "code",
   "execution_count": 26,
   "id": "bb514cbd",
   "metadata": {},
   "outputs": [],
   "source": [
    "''' Import results of the 5-fold Cross-Validation routine '''\n",
    "folds = pd.read_csv(f'../data/output/5-fold_cv/{data}_cU{cU}.csv')\n",
    "assert len(folds)==5"
   ]
  },
  {
   "cell_type": "code",
   "execution_count": 34,
   "id": "c621746d",
   "metadata": {},
   "outputs": [
    {
     "data": {
      "text/plain": [
       "auc_test_HyMT         0.742\n",
       "auc_test_GrMT         0.744\n",
       "auc_test_HyMTpairs    0.729\n",
       "auc_test_GrMTpairs    0.730\n",
       "auc_test_PaMT         0.734\n",
       "dtype: float64"
      ]
     },
     "execution_count": 34,
     "metadata": {},
     "output_type": "execute_result"
    }
   ],
   "source": [
    "''' Average over the folds '''\n",
    "np.round(np.mean(folds, axis=0)[9:], 3)"
   ]
  },
  {
   "cell_type": "code",
   "execution_count": 35,
   "id": "9ca8e212",
   "metadata": {},
   "outputs": [
    {
     "data": {
      "text/plain": [
       "auc_test_HyMT         0.025\n",
       "auc_test_GrMT         0.030\n",
       "auc_test_HyMTpairs    0.020\n",
       "auc_test_GrMTpairs    0.022\n",
       "auc_test_PaMT         0.022\n",
       "dtype: float64"
      ]
     },
     "execution_count": 35,
     "metadata": {},
     "output_type": "execute_result"
    }
   ],
   "source": [
    "''' Standard deviations over the folds '''\n",
    "np.round(np.std(folds, axis=0)[9:], 3)"
   ]
  }
 ],
 "metadata": {
  "kernelspec": {
   "display_name": "Python 3",
   "language": "python",
   "name": "python3"
  },
  "language_info": {
   "codemirror_mode": {
    "name": "ipython",
    "version": 3
   },
   "file_extension": ".py",
   "mimetype": "text/x-python",
   "name": "python",
   "nbconvert_exporter": "python",
   "pygments_lexer": "ipython3",
   "version": "3.7.4"
  }
 },
 "nbformat": 4,
 "nbformat_minor": 5
}
